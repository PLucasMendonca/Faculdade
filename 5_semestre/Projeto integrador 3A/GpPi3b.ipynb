{
  "nbformat": 4,
  "nbformat_minor": 0,
  "metadata": {
    "colab": {
      "provenance": []
    },
    "kernelspec": {
      "name": "python3",
      "display_name": "Python 3"
    },
    "language_info": {
      "name": "python"
    }
  },
  "cells": [
    {
      "cell_type": "markdown",
      "source": [
        "# Projeto de Pi\n"
      ],
      "metadata": {
        "id": "fzCsvQgNlQEE"
      }
    },
    {
      "cell_type": "markdown",
      "source": [
        "* Desvendando o Labirinto usando API Objetivo O objetivo deste trabalho é desenvolver uma ferramenta capaz de decifrar a estrutura de um labirinto representado como um grafo. Uma vez entendido o labirinto, você deve sugerir a sequência de movimentos otimizada para sair do labirinto a partir de um ponto inicial.\n"
      ],
      "metadata": {
        "id": "slD4PLcqsvWW"
      }
    },
    {
      "cell_type": "markdown",
      "source": [
        "### Descrição\n",
        "> O labirinto é representado por um grafo onde cada vértice é um ponto que pode ser visitado pelo usuário. Para ajudá-lo a entender e navegar pelo labirinto, você terá acesso a uma API com três endpoints:"
      ],
      "metadata": {
        "id": "0IYpGsNyHeHe"
      }
    },
    {
      "cell_type": "markdown",
      "source": [
        "https://github.com/rambim/graph_theory_maze\n",
        "\n",
        "##📃 Trabalho:\n",
        "Desvendando o Labirinto usando API\n",
        "\n",
        "API disonível em https://gtm.delary.dev/\n",
        "\n",
        "Documentação:\n",
        "\n",
        "Swagger(https://gtm.delary.dev/docs)\n",
        "Redoc (https://gtm.delary.dev/redoc)\n",
        "\n",
        "## 🎯 Objetivo\n",
        "\n",
        "O objetivo deste trabalho é desenvolver uma ferramenta capaz de decifrar a estrutura de um labirinto representado como um grafo.\n",
        "Uma vez entendido o labirinto, você deve sugerir a sequência de movimentos otimizada para sair do labirinto a partir de um ponto inicial.\n",
        "\n",
        "## 📝 Descrição\n",
        "\n",
        "1. **/iniciar**: Permite ao usuário iniciar a exploração do labirinto.\n",
        "* Requisição:\n",
        "\n",
        "{ \"id\": \"usuario\", \"labirinto\": \"nome_do_labirinto\" }\n",
        "\n",
        "* Resposta:\n",
        "\n",
        "{ \"pos_atual\": 5, \"inicio\": true, \"final\": false, \"movimentos\": [4, 6] }\n",
        "\n",
        "2. **/movimentar**: Permite ao usuário se mover pelo labirinto.\n",
        "* Requisição:\n",
        "\n",
        "{ \"id\": \"usuario\", \"labirinto\": \"nome_do_labirinto\", \"nova_posicao\": 6 }\n",
        "\n",
        "* Resposta:\n",
        "\n",
        "{ \"pos_atual\": 6, \"inicio\": false, \"final\": false, \"movimentos\": [5, 7] }\n",
        "\n",
        "3. **/valida_caminho**: Valida se a sequência de movimentos fornecida é um caminho válido no labirinto.\n",
        "\n",
        "* Requisição:\n",
        "\n",
        "{ \"id\": \"usuario\", \"labirinto\": \"nome_do_labirinto\", \"todos_movimentos\": [5, 6, 7] }\n",
        "* Resposta:\n",
        "\n",
        "{ \"caminho_valido\": true, \"quantidade_movimentos\": 3 }\n",
        "\n",
        "## Instruções:\n",
        "\n",
        "### 👀 Entendimento do Labirinto:\n",
        "Utilize a API fornecida para entender o grafo que representa o labirinto. Seu código deve ser capaz de identificar todos os vértices e arestas.\n",
        "\n",
        "### 📍 Busca do Caminho\n",
        "Após entender a estrutura do labirinto, desenvolva um algoritmo que encontre o caminho mais curto (se existir) do ponto inicial até o ponto final.\n",
        "\n",
        "### ✅ Validação do Caminho\n",
        "Use o endpoint /valida_caminho para confirmar se o caminho encontrado é válido.\n",
        "\n",
        "### 👩‍🏫 Apresentação\n",
        "Desenvolva uma interface simples (ou utilize a saída padrão do console) para mostrar a sequência de movimentos que o usuário deve realizar para sair do labirinto.\n",
        "### 🦄 Avaliação\n",
        "O trabalho será avaliado com base na acurácia do algoritmo (se ele realmente encontra o melhor caminho), na clareza do código e na apresentação dos resultados.\n",
        "\n",
        "###🤩 Dicas\n",
        "Você pode usar algoritmos de busca em grafos, como o Dijkstra ou o BFS (Busca em Largura), para encontrar o caminho mais curto no labirinto.\n",
        "\n",
        "Organize bem seu código, separando responsabilidades e documentando as funções.\n",
        "\n",
        "Não esqueça de tratar possíveis erros que podem surgir durante as chamadas da API.\n",
        "\n",
        "\n"
      ],
      "metadata": {
        "id": "S-YhAP_uJyCQ"
      }
    },
    {
      "cell_type": "markdown",
      "source": [
        "# Começo do Projeto\n",
        "\n",
        "\n",
        "### 🏗️ Como rodar o projeto localmente?\n",
        "\n",
        "🐳 Docker-Compose\n",
        "\n",
        "* ⚠️ Para rodar o projeto utilizando o docker-compose é necessário ter o Docker e o Docker Compose  instalados.\n",
        "\n",
        "Clone o projeto em uma pasta de sua preferência:\n",
        "\n",
        "* git clone git@github.com: rambim/graph_theory_maze.git\n",
        "\n",
        "Entre na pasta do repositório que acabou de clonar:\n",
        "* cd graph_theory_maze\n",
        "\n",
        "Execute o comando:\n",
        "* docker-compose -f docker-compose.yaml -f docker-compose.local.yaml up\n",
        "\n",
        "A API estará disponível em http://gtm.localhost/ e a documentação pode ser consultada em http://gtm.localhost/docs/ e http://gtm.localhost/redoc/.\n",
        "\n",
        "### 🐍 Python\n",
        "Para rodar o projeto apenas utilizando o Python, é necessário já ter uma instância do Redis com RediGraph configurado e rodando.\n",
        "\n",
        "A maneira mais fácil de subir o Redis com RedisGraph é via docker utilizando a imagem redislab/redisgraph.\n",
        "\n",
        "Este projeto utiliza o Python 3.11.\n",
        "\n",
        "Clone o projeto em uma pasta de sua preferência: git clone git@github.com:rambim/graph_theory_maze.git\n",
        "\n",
        "Entre na pasta do repositório que acabou de clonar: cd graph_theory_maze\n",
        "\n",
        "Crie um ambiente virtual: python -m venv .venv\n",
        "\n",
        "Ative o ambiente virtual:\n",
        "\n",
        "Linux (Bash ou Zsh): source ./venv/bin/activate\n",
        "\n",
        "Windows (Powershell): .venv\\Scripts\\Activate.ps1\n",
        "\n",
        "Instale as dependências: pip install -r requirements.txt\n",
        "\n",
        "Configure as variáveis de ambiente com os dados da sua instância do Redis com RediGraph:\n",
        "\n",
        "export GTM_REDIS_HOST=127.0.0.1\n",
        "\n",
        "export GTM_REDIS_PORT=6379\n",
        "\n",
        "* Para rodar a API, execute:\n",
        "\n",
        "uvicorn api.main:api --host localhost --port 8080\n",
        "\n",
        "A API estará disponível em (localhost:8080/) e a documentação pode ser consultada em (localhost:8080/docs) e (localhost:8080/redoc).\n",
        "\n",
        "### 🚀 Como rodar o projeto em produção?\n",
        "Antes de efetuar deploy em produção, é necessário adquirir certificado para que a comunicação com a API seja feita tanto em HTTP e HTTPS, principalmente para exposição das documentações (Swagger e Redoc), pois, a depender do domínio, só é possível acessá-lo no browser via HTTPS.\n",
        "\n",
        "Leia mais:\n",
        "\n",
        "HSTS\n",
        "\n",
        "Preloaded HSTS\n",
        "\n",
        "Let's Encrypt\n",
        "\n",
        "Após obter os certificados de forma manual, eles devem estar em ./traefik/pki com os nomes cert.pem e privkey.key.\n",
        "\n",
        "O próximo passo é configurar as variáveis de ambiente antes de subir a aplicação:\n",
        "\n",
        "GTM_DASH_SUBDOMAIN:\n",
        "Subdomínio do Dashboard do Traefik, exemplo: dashboard\n",
        "\n",
        "GTM_API_SUBDOMAIN:Subdomínio da aplicação em si, exemplo: gtm\n",
        "\n",
        "GTM_BASE_DOMAIN: Domínio base da aplicação, exemplo: delary.dev\n",
        "\n",
        "⚠️ Atenção para os subdominíos, pois não podem possuir mais de 1 nível, ou seja, não podem ser nivel2.nivel1 ou dashboard.gtm.\n",
        "\n",
        "⚠️ Lembre-se que o certificado deve ser um certificado wildcard para ser possível acessar o dashboard e documentação da aplicação pelo browser.\n",
        "\n",
        "Agora basta utilizar o Docker Compose para subir a aplicação utilizando o yaml de produção:\n",
        "\n",
        "docker-compose -f docker-compose.yaml -f docker-compose.prod.yaml up.\n",
        "\n",
        "### 📐 Variáveis de Ambiente\n",
        "Variáveis de Deploy\n",
        "Obs: Não podem ser alteradas no arquvo yaml do docker compose, devem estar setadas no ambiente em tempo de deploy da aplicação.\n",
        "\n",
        "GTM_BASE_DOMAIN: Domínio base da aplicação, exemplo: delary.dev.\n",
        "\n",
        "GTM_DASH_SUBDOMAIN: Subdomínio do Dashboard no Traefik, exemplo: dashboard.\n",
        "\n",
        "GTM_API_SUBDOMAIN: Subdomínio da aplicação em si, exemplo: gtm (assim como a API disponível, gtm.delary.dev).\n",
        "\n",
        "* Variáveis da Aplicação\n",
        "\n",
        "Obs: Podem ser alteradas no arquivo yaml do docker compose, na seção environment.\n",
        "\n",
        "GTM_REDIS_HOST: Host do Redis. Exemplo: localhost ou 127.0.0.1.\n",
        "\n",
        "GTM_REDIS_PORT: Port do Redis. Exemplo: 6379.\n",
        "\n",
        "GTM_SESSION_TTL: Tempo em segundos que a sessão do usuário fica salva no Redis. Valor padrão 300 (5 minutos)."
      ],
      "metadata": {
        "id": "Znj9N0noPJ5y"
      }
    },
    {
      "cell_type": "markdown",
      "source": [
        "# API"
      ],
      "metadata": {
        "id": "Tcu7WsTCQ-0O"
      }
    },
    {
      "cell_type": "markdown",
      "source": [
        "## Bibliotecas"
      ],
      "metadata": {
        "id": "l7tdIr68Nplv"
      }
    },
    {
      "cell_type": "code",
      "source": [
        "import requests\n",
        "from collections import deque\n",
        "import urllib3"
      ],
      "metadata": {
        "id": "GiWyJm5jQ92_"
      },
      "execution_count": null,
      "outputs": []
    },
    {
      "cell_type": "markdown",
      "source": [
        "### Labirintos"
      ],
      "metadata": {
        "id": "IoPwXI9cNShJ"
      }
    },
    {
      "cell_type": "code",
      "source": [
        "def obter_labirinto():\n",
        "\n",
        "  urllib3.disable_warnings()\n",
        "  response = requests.get('https://gtm.delary.dev/labirintos', verify=False)\n",
        "  if response.status_code == 200:\n",
        "      return response.json()\n",
        "  else:\n",
        "      print(f\"A solicitação falhou com o código de status {response.status_code}\")\n",
        "      return None"
      ],
      "metadata": {
        "id": "9DI_p4VyvwqR"
      },
      "execution_count": null,
      "outputs": []
    },
    {
      "cell_type": "code",
      "source": [
        "labirinto = obter_labirinto()"
      ],
      "metadata": {
        "id": "t8T1eYG81I8S"
      },
      "execution_count": null,
      "outputs": []
    },
    {
      "cell_type": "code",
      "source": [],
      "metadata": {
        "colab": {
          "base_uri": "https://localhost:8080/"
        },
        "id": "Dzyv4jIyNKJs",
        "outputId": "f0957dc1-ad41-40ce-94b0-45d371cc500a"
      },
      "execution_count": null,
      "outputs": [
        {
          "output_type": "stream",
          "name": "stdout",
          "text": [
            "sample-maze-2\n"
          ]
        }
      ]
    },
    {
      "cell_type": "markdown",
      "source": [
        "## Iniciar"
      ],
      "metadata": {
        "id": "4LgPDhLkNbiX"
      }
    },
    {
      "cell_type": "code",
      "source": [
        "def iniciar_labirinto(nome_labirinto, id_jogador):\n",
        "  urllib3.disable_warnings()\n",
        "  url_iniciar = \"https://gtm.delary.dev/iniciar\"\n",
        "\n",
        "  dados_requisicao = {\n",
        "      \"id\": id_jogador,\n",
        "      \"labirinto\": nome_labirinto\n",
        "  }\n",
        "\n",
        "  resposta_iniciar = requests.post(url_iniciar, json=dados_requisicao, verify = False)\n",
        "\n",
        "  if resposta_iniciar.status_code == 200:\n",
        "      print(\"Resposta do /iniciar:\")\n",
        "      return resposta_iniciar.json()\n",
        "  else:\n",
        "      print(f\"A solicitação falhou com o código de status {resposta_iniciar.status_code}\")\n",
        "      return None\n"
      ],
      "metadata": {
        "id": "__1BAwaYspaQ"
      },
      "execution_count": null,
      "outputs": []
    },
    {
      "cell_type": "code",
      "source": [
        "iniciar_labirinto(\"sample-maze\", \"Lucas\")"
      ],
      "metadata": {
        "colab": {
          "base_uri": "https://localhost:8080/"
        },
        "id": "ykb6wy002udp",
        "outputId": "e7f15f3b-9b71-4f68-f817-328881aab512"
      },
      "execution_count": null,
      "outputs": [
        {
          "output_type": "stream",
          "name": "stdout",
          "text": [
            "Resposta do /iniciar:\n"
          ]
        },
        {
          "output_type": "execute_result",
          "data": {
            "text/plain": [
              "{'pos_atual': 8, 'inicio': True, 'final': False, 'movimentos': [4, 5, 6, 10]}"
            ]
          },
          "metadata": {},
          "execution_count": 17
        }
      ]
    },
    {
      "cell_type": "markdown",
      "source": [
        "## Movimentar"
      ],
      "metadata": {
        "id": "YV7oMLMKNds3"
      }
    },
    {
      "cell_type": "code",
      "source": [
        "def movimentar_labirinto(nome_labirinto,id_jogador, nova_posicao):\n",
        "  urllib3.disable_warnings()\n",
        "  url_movimentar = \"https://gtm.delary.dev/movimentar\"\n",
        "\n",
        "  dados_requisicao = {\n",
        "      \"id\": id_jogador,\n",
        "      \"labirinto\": nome_labirinto,\n",
        "      \"nova_posicao\": nova_posicao\n",
        "  }\n",
        "  resposta_movimentar = requests.post(url_movimentar, json=dados_requisicao, verify = False)\n",
        "\n",
        "  if resposta_movimentar.status_code == 200:\n",
        "      print(\"Resposta do /movimentar:\")\n",
        "      return resposta_movimentar.json()\n",
        "  else:\n",
        "      print(f\"A solicitação falhou com o código de status {resposta_movimentar.status_code}\")\n",
        "      return None"
      ],
      "metadata": {
        "id": "RKZk1n2bBcK7"
      },
      "execution_count": null,
      "outputs": []
    },
    {
      "cell_type": "code",
      "source": [
        "movimentar_labirinto('sample-maze', 'Lucas', 6)"
      ],
      "metadata": {
        "colab": {
          "base_uri": "https://localhost:8080/"
        },
        "id": "avT6aIqd3xq5",
        "outputId": "dd140b47-bbee-43eb-d8ce-1ff94dfce2ab"
      },
      "execution_count": null,
      "outputs": [
        {
          "output_type": "stream",
          "name": "stdout",
          "text": [
            "Resposta do /movimentar:\n"
          ]
        },
        {
          "output_type": "execute_result",
          "data": {
            "text/plain": [
              "{'pos_atual': 6, 'inicio': False, 'final': False, 'movimentos': [7, 8, 10]}"
            ]
          },
          "metadata": {},
          "execution_count": 20
        }
      ]
    },
    {
      "cell_type": "markdown",
      "source": [
        "## Validar Caminho"
      ],
      "metadata": {
        "id": "ibS1inRGNhfQ"
      }
    },
    {
      "cell_type": "code",
      "source": [
        "def validar_caminho(nome_labirinto, id_jogador, movimentos):\n",
        "  urllib3.disable_warnings()\n",
        "  url_validar = \"https://gtm.delary.dev/validar_caminho\"\n",
        "\n",
        "  dados_requisicao = {\n",
        "      \"id\": id_jogador,\n",
        "      \"labirinto\": nome_labirinto,\n",
        "      \"todos_movimentos\": movimentos\n",
        "  }\n",
        "  resposta_validar_caminho = requests.post(url_validar, json=dados_requisicao, verify = False)\n",
        "\n",
        "  if resposta_validar_caminho.status_code == 200:\n",
        "      print(\"Resposta do /validar_caminho:\")\n",
        "      return resposta_validar_caminho.json()\n",
        "  else:\n",
        "      print(f\"A solicitação falhou com o código de status {resposta_validar_caminho.status_code}\")\n",
        "      return None"
      ],
      "metadata": {
        "id": "sT9jjV2dCR3T"
      },
      "execution_count": null,
      "outputs": []
    },
    {
      "cell_type": "code",
      "source": [],
      "metadata": {
        "id": "p6CU3fJBcCsM"
      },
      "execution_count": null,
      "outputs": []
    },
    {
      "cell_type": "markdown",
      "source": [],
      "metadata": {
        "id": "prWsWHxOcBdl"
      }
    },
    {
      "cell_type": "markdown",
      "source": [
        "# Código"
      ],
      "metadata": {
        "id": "krhPYj4db6mE"
      }
    },
    {
      "cell_type": "code",
      "source": [
        "labirinto = obter_labirinto()\n",
        "print(labirinto)"
      ],
      "metadata": {
        "colab": {
          "base_uri": "https://localhost:8080/"
        },
        "id": "MSr_YPQv5q4g",
        "outputId": "7f9dae4f-3e0f-4ea1-e1b0-d672620272de"
      },
      "execution_count": null,
      "outputs": [
        {
          "output_type": "stream",
          "name": "stdout",
          "text": [
            "['sample-maze', 'sample-maze-2']\n"
          ]
        }
      ]
    },
    {
      "cell_type": "code",
      "source": [
        "iniciar_labirinto(labirinto[0], 'Lucas')"
      ],
      "metadata": {
        "colab": {
          "base_uri": "https://localhost:8080/"
        },
        "id": "HS_PeyEcKy0D",
        "outputId": "46d197a2-0e0e-4ac1-e2df-1f0986ea632b"
      },
      "execution_count": null,
      "outputs": [
        {
          "output_type": "stream",
          "name": "stdout",
          "text": [
            "Resposta do /iniciar:\n"
          ]
        },
        {
          "output_type": "execute_result",
          "data": {
            "text/plain": [
              "{'pos_atual': 8, 'inicio': True, 'final': False, 'movimentos': [4, 5, 6, 10]}"
            ]
          },
          "metadata": {},
          "execution_count": 30
        }
      ]
    },
    {
      "cell_type": "code",
      "source": [
        "from collections import deque"
      ],
      "metadata": {
        "id": "mK9rwNQEb_W8"
      },
      "execution_count": null,
      "outputs": []
    },
    {
      "cell_type": "code",
      "source": [
        "def bfs(grafo, inicio, final):\n",
        "  fila = deque([(inicio, [inicio])])\n",
        "  visitados = set()\n",
        "\n",
        "  while fila:\n",
        "    vertice, caminho = fila.popleft()\n",
        "\n",
        "    if vertice == final:\n",
        "      return caminho\n",
        "    if vertice not in visitados:\n",
        "      visitados.add(vertice)\n",
        "      for vizinho in grafo[vertice]:\n",
        "        fila.append((vizinho, caminho +[vizinho]))\n",
        "  return None"
      ],
      "metadata": {
        "id": "Xy2UNNWN-xvo"
      },
      "execution_count": null,
      "outputs": []
    },
    {
      "cell_type": "code",
      "source": [
        "def contruir_grafo(dados):\n",
        "  grafo = {}\n",
        "  for posicao in dados:\n",
        "    pos_atual = posicao[\"pos_atual\"]\n",
        "    movimentos = posicao[\"movimentos\"]\n",
        "    grafo[pos_atual] = movimentos\n",
        "  return grafo"
      ],
      "metadata": {
        "id": "6qi5jfKkA487"
      },
      "execution_count": null,
      "outputs": []
    },
    {
      "cell_type": "code",
      "source": [
        "dados = [\n",
        "    {\"pos_atual\": 0, \"inicio\": True, \"final\": False, \"movimentos\": [1, 2]},\n",
        "    {\"pos_atual\": 1, \"inicio\": False, \"final\": False, \"movimentos\": [0, 3]},\n",
        "    {\"pos_atual\": 2, \"inicio\": False, \"final\": False, \"movimentos\": [0, 4]},\n",
        "    {\"pos_atual\": 3, \"inicio\": False, \"final\": False, \"movimentos\": [1, 5,9]},\n",
        "    {\"pos_atual\": 4, \"inicio\": False, \"final\": False, \"movimentos\": [2, 6]},\n",
        "    {\"pos_atual\": 5, \"inicio\": False, \"final\": False, \"movimentos\": [3, 7]},\n",
        "    {\"pos_atual\": 6, \"inicio\": False, \"final\": False, \"movimentos\": [4, 8,]},\n",
        "    {\"pos_atual\": 7, \"inicio\": False, \"final\": False, \"movimentos\": [5, 9]},\n",
        "    {\"pos_atual\": 8, \"inicio\": False, \"final\": False, \"movimentos\": [6, 9]},\n",
        "    {\"pos_atual\": 9, \"inicio\": False, \"final\": True, \"movimentos\": [7]}\n",
        "]"
      ],
      "metadata": {
        "id": "14uDyxIWBne0"
      },
      "execution_count": null,
      "outputs": []
    },
    {
      "cell_type": "code",
      "source": [
        "grafo = contruir_grafo(dados)\n",
        "\n",
        "inicio = None\n",
        "final = None\n",
        "for posicao in dados:\n",
        "  if posicao[\"inicio\"]:\n",
        "    inicio = posicao[\"pos_atual\"]\n",
        "  if posicao[\"final\"]:\n",
        "    final = posicao[\"pos_atual\"]\n",
        "caminho = bfs(grafo, inicio, final)\n",
        "\n",
        "if caminho:\n",
        "  print(\"Caminho para a saída com menor número de passos: \", caminho)\n",
        "  print(\"Número mínimo de passos: \", len(caminho) -1)\n",
        "else:\n",
        "  print(\"Não há caminho para a saída\")"
      ],
      "metadata": {
        "colab": {
          "base_uri": "https://localhost:8080/"
        },
        "id": "FthjJIzQCGlE",
        "outputId": "d3189a2c-3b09-4590-b974-ddff76e33f13"
      },
      "execution_count": null,
      "outputs": [
        {
          "output_type": "stream",
          "name": "stdout",
          "text": [
            "Caminho para a saída com menor número de passos:  [0, 1, 3, 9]\n",
            "Número mínimo de passos:  3\n"
          ]
        }
      ]
    },
    {
      "cell_type": "code",
      "source": [],
      "metadata": {
        "id": "hNYqfC8ECJ95"
      },
      "execution_count": null,
      "outputs": []
    }
  ]
}